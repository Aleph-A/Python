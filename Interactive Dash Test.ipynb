{
 "cells": [
  {
   "cell_type": "code",
   "execution_count": null,
   "metadata": {},
   "outputs": [
    {
     "name": "stdout",
     "output_type": "stream",
     "text": [
      "  Project Start     Customer   Value\n",
      "0      May-2019    Nestle SG   50000\n",
      "1      Mar-2019       AIA MY   30000\n",
      "2      Oct-2019  Heineken VN    5000\n",
      "3      Oct-2019       MAB MY  300000\n",
      "4      Dec-2019    Nestle VN   20000\n",
      "Running on http://127.0.0.1:8050/\n",
      "Running on http://127.0.0.1:8050/\n",
      "Debugger PIN: 762-436-679\n",
      "Debugger PIN: 762-436-679\n",
      " * Serving Flask app \"__main__\" (lazy loading)\n",
      " * Environment: production\n",
      "   WARNING: This is a development server. Do not use it in a production deployment.\n",
      "   Use a production WSGI server instead.\n",
      " * Debug mode: on\n"
     ]
    }
   ],
   "source": [
    "#tutorial - https://www.youtube.com/watch?v=cnPlKLEGR7E\n",
    "import gspread\n",
    "from oauth2client.service_account import ServiceAccountCredentials\n",
    "import pandas as pd\n",
    "import dash\n",
    "import dash_core_components as dcc\n",
    "import dash_html_components as html\n",
    "import plotly.express as px\n",
    "\n",
    "scope = ['https://spreadsheets.google.com/feeds','https://www.googleapis.com/auth/spreadsheets','https://www.googleapis.com/auth/drive.file',\n",
    "         'https://www.googleapis.com/auth/drive']\n",
    "\n",
    "credentials = ServiceAccountCredentials.from_json_keyfile_name(\n",
    "         'My Dashboard Project-285a42ed7ed4.json', scope) # Your json file here\n",
    "\n",
    "gc = gspread.authorize(credentials)\n",
    "\n",
    "# worksheet open option: wks = gc.open_by_url(\"https://docs.google.com/spreadsheets/d/1-2aOWHlVVkfIKsghX1m-UnLu9XqmKpCsqw8hUyin9o0/edit?usp=drive_web&ouid=110167960826787635572\")\n",
    "\n",
    "wks = gc.open(\"PM_Test\").sheet1 #need to be created in google sheet instead of as .xlsx format)\n",
    "\n",
    "data = wks.get_all_values()\n",
    "headers = data.pop(0)\n",
    "\n",
    "pm = pd.DataFrame(data, columns=headers)\n",
    "print(pm.head())\n",
    "\n",
    "#clean data\n",
    "pm['Project Start1'] =  pd.to_datetime(pm['Project Start'],format=('%b-%Y'))\n",
    "pm['Value']=pm['Value'].astype(str).astype(int)\n",
    "\n",
    "\n",
    "#generate web dashboard\n",
    "fig = px.scatter(pm, x=\"Project Start\", y=\"Value\", color=\"Customer\",size = \"Value\",title='Pulsifi Projects By Value',labels={\"Value\": \"Project Value\"})\n",
    "#fig.show() won't work on jupyter lab; only on jupyter notebook\n",
    "\n",
    "app = dash.Dash()\n",
    "app.layout = html.Div([\n",
    "    dcc.Graph(figure=fig)\n",
    "])\n",
    "\n",
    "app.run_server(debug=True, use_reloader=False)  # Turn off reloader if inside Jupyter                            \n",
    "                              "
   ]
  },
  {
   "cell_type": "code",
   "execution_count": null,
   "metadata": {},
   "outputs": [],
   "source": []
  }
 ],
 "metadata": {
  "kernelspec": {
   "display_name": "Python 3",
   "language": "python",
   "name": "python3"
  },
  "language_info": {
   "codemirror_mode": {
    "name": "ipython",
    "version": 3
   },
   "file_extension": ".py",
   "mimetype": "text/x-python",
   "name": "python",
   "nbconvert_exporter": "python",
   "pygments_lexer": "ipython3",
   "version": "3.7.3"
  }
 },
 "nbformat": 4,
 "nbformat_minor": 4
}
